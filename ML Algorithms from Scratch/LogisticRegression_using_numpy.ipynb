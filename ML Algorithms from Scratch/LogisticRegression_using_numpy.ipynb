{
 "cells": [
  {
   "cell_type": "code",
   "execution_count": 3,
   "metadata": {},
   "outputs": [],
   "source": [
    "import numpy as np\n",
    "\n",
    "from sklearn import datasets\n",
    "from sklearn.model_selection import train_test_split\n",
    "import matplotlib.pyplot as plt\n",
    "from matplotlib.colors import ListedColormap\n",
    "cmap = ListedColormap(['#FF0000', '#00FF00', '#0000FF'])"
   ]
  },
  {
   "cell_type": "code",
   "execution_count": 23,
   "metadata": {},
   "outputs": [],
   "source": [
    "# https://www.youtube.com/watch?v=YYEJ_GUguHw\n",
    "\n",
    "class logisticRegression:\n",
    "    def __init__(self, learning_rate=0.001, iterations=1000):\n",
    "        self.lr = learning_rate\n",
    "        self.iterations = iterations\n",
    "\n",
    "    def sigmoid(self, x):\n",
    "        return 1/(1+np.exp(-x))\n",
    "\n",
    "    def fit(self, X, y):\n",
    "        n_samples, n_features = X.shape\n",
    "        self.weight = np.zeros(n_features)\n",
    "        self.bias = 0\n",
    "\n",
    "        for _ in range(self.iterations):\n",
    "            linear_pred = np.dot(X, self.weight) + self.bias\n",
    "            y_pred = self.sigmoid(linear_pred)\n",
    "\n",
    "            dw = (1/n_samples) * np.dot(X.T, (y_pred - y))\n",
    "            db = (1/n_samples) * np.sum(y_pred-y)\n",
    "\n",
    "            dw -= self.lr*dw\n",
    "            db -= self.lr*db\n",
    "\n",
    "    def predict(self, X):\n",
    "        linear_pred = np.dot(X, self.weight) + self.bias\n",
    "        y_pred = self.sigmoid(linear_pred)\n",
    "        return [0 if y<= 0.5 else 1 for y in y_pred]\n",
    "    \n"
   ]
  },
  {
   "cell_type": "code",
   "execution_count": 24,
   "metadata": {},
   "outputs": [],
   "source": [
    "def accuracy(y_pred, y_true):\n",
    "    return np.sum(y_pred == y_true)/len(y_true)"
   ]
  },
  {
   "cell_type": "code",
   "execution_count": 25,
   "metadata": {},
   "outputs": [],
   "source": [
    "bc = datasets.load_breast_cancer()\n",
    "X, y = bc.data, bc.target\n",
    "\n",
    "X_train, X_test, y_train, y_test = train_test_split(X, y, test_size=0.2, random_state=1234)"
   ]
  },
  {
   "cell_type": "code",
   "execution_count": 26,
   "metadata": {},
   "outputs": [
    {
     "name": "stderr",
     "output_type": "stream",
     "text": [
      "/var/folders/pf/s0n78_vs64v0vtrn00qhlvx40000gn/T/ipykernel_1240/4245820494.py:17: RuntimeWarning: divide by zero encountered in dot\n",
      "  linear_pred = np.dot(X, self.weight) + self.bias\n",
      "/var/folders/pf/s0n78_vs64v0vtrn00qhlvx40000gn/T/ipykernel_1240/4245820494.py:17: RuntimeWarning: overflow encountered in dot\n",
      "  linear_pred = np.dot(X, self.weight) + self.bias\n",
      "/var/folders/pf/s0n78_vs64v0vtrn00qhlvx40000gn/T/ipykernel_1240/4245820494.py:17: RuntimeWarning: invalid value encountered in dot\n",
      "  linear_pred = np.dot(X, self.weight) + self.bias\n",
      "/var/folders/pf/s0n78_vs64v0vtrn00qhlvx40000gn/T/ipykernel_1240/4245820494.py:20: RuntimeWarning: divide by zero encountered in dot\n",
      "  dw = (1/n_samples) * np.dot(X.T, (y_pred - y))\n",
      "/var/folders/pf/s0n78_vs64v0vtrn00qhlvx40000gn/T/ipykernel_1240/4245820494.py:20: RuntimeWarning: overflow encountered in dot\n",
      "  dw = (1/n_samples) * np.dot(X.T, (y_pred - y))\n",
      "/var/folders/pf/s0n78_vs64v0vtrn00qhlvx40000gn/T/ipykernel_1240/4245820494.py:20: RuntimeWarning: invalid value encountered in dot\n",
      "  dw = (1/n_samples) * np.dot(X.T, (y_pred - y))\n",
      "/var/folders/pf/s0n78_vs64v0vtrn00qhlvx40000gn/T/ipykernel_1240/4245820494.py:27: RuntimeWarning: divide by zero encountered in dot\n",
      "  linear_pred = np.dot(X, self.weight) + self.bias\n",
      "/var/folders/pf/s0n78_vs64v0vtrn00qhlvx40000gn/T/ipykernel_1240/4245820494.py:27: RuntimeWarning: overflow encountered in dot\n",
      "  linear_pred = np.dot(X, self.weight) + self.bias\n",
      "/var/folders/pf/s0n78_vs64v0vtrn00qhlvx40000gn/T/ipykernel_1240/4245820494.py:27: RuntimeWarning: invalid value encountered in dot\n",
      "  linear_pred = np.dot(X, self.weight) + self.bias\n"
     ]
    }
   ],
   "source": [
    "logreg = logisticRegression()\n",
    "logreg.fit(X_train, y_train)\n",
    "\n",
    "y_pred = logreg.predict(X_test)"
   ]
  },
  {
   "cell_type": "code",
   "execution_count": 27,
   "metadata": {},
   "outputs": [
    {
     "name": "stdout",
     "output_type": "stream",
     "text": [
      "[0, 0, 0, 0, 0, 0, 0, 0, 0, 0, 0, 0, 0, 0, 0, 0, 0, 0, 0, 0, 0, 0, 0, 0, 0, 0, 0, 0, 0, 0, 0, 0, 0, 0, 0, 0, 0, 0, 0, 0, 0, 0, 0, 0, 0, 0, 0, 0, 0, 0, 0, 0, 0, 0, 0, 0, 0, 0, 0, 0, 0, 0, 0, 0, 0, 0, 0, 0, 0, 0, 0, 0, 0, 0, 0, 0, 0, 0, 0, 0, 0, 0, 0, 0, 0, 0, 0, 0, 0, 0, 0, 0, 0, 0, 0, 0, 0, 0, 0, 0, 0, 0, 0, 0, 0, 0, 0, 0, 0, 0, 0, 0, 0, 0]\n"
     ]
    }
   ],
   "source": [
    "print(y_pred)"
   ]
  },
  {
   "cell_type": "code",
   "execution_count": 28,
   "metadata": {},
   "outputs": [
    {
     "data": {
      "text/plain": [
       "np.float64(0.39473684210526316)"
      ]
     },
     "execution_count": 28,
     "metadata": {},
     "output_type": "execute_result"
    }
   ],
   "source": [
    "accuracy(y_pred, y_test)"
   ]
  },
  {
   "cell_type": "code",
   "execution_count": null,
   "metadata": {},
   "outputs": [],
   "source": []
  }
 ],
 "metadata": {
  "kernelspec": {
   "display_name": "ml_algo",
   "language": "python",
   "name": "python3"
  },
  "language_info": {
   "codemirror_mode": {
    "name": "ipython",
    "version": 3
   },
   "file_extension": ".py",
   "mimetype": "text/x-python",
   "name": "python",
   "nbconvert_exporter": "python",
   "pygments_lexer": "ipython3",
   "version": "3.13.2"
  }
 },
 "nbformat": 4,
 "nbformat_minor": 2
}
